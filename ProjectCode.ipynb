{
 "cells": [
  {
   "cell_type": "code",
   "execution_count": 2,
   "metadata": {
    "scrolled": true
   },
   "outputs": [
    {
     "data": {
      "text/html": [
       "<div>\n",
       "<style scoped>\n",
       "    .dataframe tbody tr th:only-of-type {\n",
       "        vertical-align: middle;\n",
       "    }\n",
       "\n",
       "    .dataframe tbody tr th {\n",
       "        vertical-align: top;\n",
       "    }\n",
       "\n",
       "    .dataframe thead th {\n",
       "        text-align: right;\n",
       "    }\n",
       "</style>\n",
       "<table border=\"1\" class=\"dataframe\">\n",
       "  <thead>\n",
       "    <tr style=\"text-align: right;\">\n",
       "      <th></th>\n",
       "      <th>ResponseId</th>\n",
       "      <th>MainBranch</th>\n",
       "      <th>Employment</th>\n",
       "      <th>RemoteWork</th>\n",
       "      <th>CodingActivities</th>\n",
       "      <th>EdLevel</th>\n",
       "      <th>LearnCode</th>\n",
       "      <th>LearnCodeOnline</th>\n",
       "      <th>LearnCodeCoursesCert</th>\n",
       "      <th>YearsCode</th>\n",
       "      <th>...</th>\n",
       "      <th>TimeSearching</th>\n",
       "      <th>TimeAnswering</th>\n",
       "      <th>Onboarding</th>\n",
       "      <th>ProfessionalTech</th>\n",
       "      <th>TrueFalse_1</th>\n",
       "      <th>TrueFalse_2</th>\n",
       "      <th>TrueFalse_3</th>\n",
       "      <th>SurveyLength</th>\n",
       "      <th>SurveyEase</th>\n",
       "      <th>ConvertedCompYearly</th>\n",
       "    </tr>\n",
       "  </thead>\n",
       "  <tbody>\n",
       "    <tr>\n",
       "      <th>0</th>\n",
       "      <td>1</td>\n",
       "      <td>None of these</td>\n",
       "      <td>NaN</td>\n",
       "      <td>NaN</td>\n",
       "      <td>NaN</td>\n",
       "      <td>NaN</td>\n",
       "      <td>NaN</td>\n",
       "      <td>NaN</td>\n",
       "      <td>NaN</td>\n",
       "      <td>NaN</td>\n",
       "      <td>...</td>\n",
       "      <td>NaN</td>\n",
       "      <td>NaN</td>\n",
       "      <td>NaN</td>\n",
       "      <td>NaN</td>\n",
       "      <td>NaN</td>\n",
       "      <td>NaN</td>\n",
       "      <td>NaN</td>\n",
       "      <td>NaN</td>\n",
       "      <td>NaN</td>\n",
       "      <td>NaN</td>\n",
       "    </tr>\n",
       "    <tr>\n",
       "      <th>1</th>\n",
       "      <td>2</td>\n",
       "      <td>I am a developer by profession</td>\n",
       "      <td>Employed, full-time</td>\n",
       "      <td>Fully remote</td>\n",
       "      <td>Hobby;Contribute to open-source projects</td>\n",
       "      <td>NaN</td>\n",
       "      <td>NaN</td>\n",
       "      <td>NaN</td>\n",
       "      <td>NaN</td>\n",
       "      <td>NaN</td>\n",
       "      <td>...</td>\n",
       "      <td>NaN</td>\n",
       "      <td>NaN</td>\n",
       "      <td>NaN</td>\n",
       "      <td>NaN</td>\n",
       "      <td>NaN</td>\n",
       "      <td>NaN</td>\n",
       "      <td>NaN</td>\n",
       "      <td>Too long</td>\n",
       "      <td>Difficult</td>\n",
       "      <td>NaN</td>\n",
       "    </tr>\n",
       "    <tr>\n",
       "      <th>2</th>\n",
       "      <td>3</td>\n",
       "      <td>I am not primarily a developer, but I write co...</td>\n",
       "      <td>Employed, full-time</td>\n",
       "      <td>Hybrid (some remote, some in-person)</td>\n",
       "      <td>Hobby</td>\n",
       "      <td>Master’s degree (M.A., M.S., M.Eng., MBA, etc.)</td>\n",
       "      <td>Books / Physical media;Friend or family member...</td>\n",
       "      <td>Technical documentation;Blogs;Programming Game...</td>\n",
       "      <td>NaN</td>\n",
       "      <td>14</td>\n",
       "      <td>...</td>\n",
       "      <td>NaN</td>\n",
       "      <td>NaN</td>\n",
       "      <td>NaN</td>\n",
       "      <td>NaN</td>\n",
       "      <td>NaN</td>\n",
       "      <td>NaN</td>\n",
       "      <td>NaN</td>\n",
       "      <td>Appropriate in length</td>\n",
       "      <td>Neither easy nor difficult</td>\n",
       "      <td>40205.0</td>\n",
       "    </tr>\n",
       "    <tr>\n",
       "      <th>3</th>\n",
       "      <td>4</td>\n",
       "      <td>I am a developer by profession</td>\n",
       "      <td>Employed, full-time</td>\n",
       "      <td>Fully remote</td>\n",
       "      <td>I don’t code outside of work</td>\n",
       "      <td>Bachelor’s degree (B.A., B.S., B.Eng., etc.)</td>\n",
       "      <td>Books / Physical media;School (i.e., Universit...</td>\n",
       "      <td>NaN</td>\n",
       "      <td>NaN</td>\n",
       "      <td>20</td>\n",
       "      <td>...</td>\n",
       "      <td>NaN</td>\n",
       "      <td>NaN</td>\n",
       "      <td>NaN</td>\n",
       "      <td>NaN</td>\n",
       "      <td>NaN</td>\n",
       "      <td>NaN</td>\n",
       "      <td>NaN</td>\n",
       "      <td>Appropriate in length</td>\n",
       "      <td>Easy</td>\n",
       "      <td>215232.0</td>\n",
       "    </tr>\n",
       "    <tr>\n",
       "      <th>4</th>\n",
       "      <td>5</td>\n",
       "      <td>I am a developer by profession</td>\n",
       "      <td>Employed, full-time</td>\n",
       "      <td>Hybrid (some remote, some in-person)</td>\n",
       "      <td>Hobby</td>\n",
       "      <td>Bachelor’s degree (B.A., B.S., B.Eng., etc.)</td>\n",
       "      <td>Other online resources (e.g., videos, blogs, f...</td>\n",
       "      <td>Technical documentation;Blogs;Stack Overflow;O...</td>\n",
       "      <td>NaN</td>\n",
       "      <td>8</td>\n",
       "      <td>...</td>\n",
       "      <td>NaN</td>\n",
       "      <td>NaN</td>\n",
       "      <td>NaN</td>\n",
       "      <td>NaN</td>\n",
       "      <td>NaN</td>\n",
       "      <td>NaN</td>\n",
       "      <td>NaN</td>\n",
       "      <td>Too long</td>\n",
       "      <td>Easy</td>\n",
       "      <td>NaN</td>\n",
       "    </tr>\n",
       "  </tbody>\n",
       "</table>\n",
       "<p>5 rows × 79 columns</p>\n",
       "</div>"
      ],
      "text/plain": [
       "   ResponseId                                         MainBranch  \\\n",
       "0           1                                      None of these   \n",
       "1           2                     I am a developer by profession   \n",
       "2           3  I am not primarily a developer, but I write co...   \n",
       "3           4                     I am a developer by profession   \n",
       "4           5                     I am a developer by profession   \n",
       "\n",
       "            Employment                            RemoteWork  \\\n",
       "0                  NaN                                   NaN   \n",
       "1  Employed, full-time                          Fully remote   \n",
       "2  Employed, full-time  Hybrid (some remote, some in-person)   \n",
       "3  Employed, full-time                          Fully remote   \n",
       "4  Employed, full-time  Hybrid (some remote, some in-person)   \n",
       "\n",
       "                           CodingActivities  \\\n",
       "0                                       NaN   \n",
       "1  Hobby;Contribute to open-source projects   \n",
       "2                                     Hobby   \n",
       "3              I don’t code outside of work   \n",
       "4                                     Hobby   \n",
       "\n",
       "                                           EdLevel  \\\n",
       "0                                              NaN   \n",
       "1                                              NaN   \n",
       "2  Master’s degree (M.A., M.S., M.Eng., MBA, etc.)   \n",
       "3     Bachelor’s degree (B.A., B.S., B.Eng., etc.)   \n",
       "4     Bachelor’s degree (B.A., B.S., B.Eng., etc.)   \n",
       "\n",
       "                                           LearnCode  \\\n",
       "0                                                NaN   \n",
       "1                                                NaN   \n",
       "2  Books / Physical media;Friend or family member...   \n",
       "3  Books / Physical media;School (i.e., Universit...   \n",
       "4  Other online resources (e.g., videos, blogs, f...   \n",
       "\n",
       "                                     LearnCodeOnline LearnCodeCoursesCert  \\\n",
       "0                                                NaN                  NaN   \n",
       "1                                                NaN                  NaN   \n",
       "2  Technical documentation;Blogs;Programming Game...                  NaN   \n",
       "3                                                NaN                  NaN   \n",
       "4  Technical documentation;Blogs;Stack Overflow;O...                  NaN   \n",
       "\n",
       "  YearsCode         ...         TimeSearching TimeAnswering Onboarding  \\\n",
       "0       NaN         ...                   NaN           NaN        NaN   \n",
       "1       NaN         ...                   NaN           NaN        NaN   \n",
       "2        14         ...                   NaN           NaN        NaN   \n",
       "3        20         ...                   NaN           NaN        NaN   \n",
       "4         8         ...                   NaN           NaN        NaN   \n",
       "\n",
       "  ProfessionalTech TrueFalse_1 TrueFalse_2 TrueFalse_3           SurveyLength  \\\n",
       "0              NaN         NaN         NaN         NaN                    NaN   \n",
       "1              NaN         NaN         NaN         NaN               Too long   \n",
       "2              NaN         NaN         NaN         NaN  Appropriate in length   \n",
       "3              NaN         NaN         NaN         NaN  Appropriate in length   \n",
       "4              NaN         NaN         NaN         NaN               Too long   \n",
       "\n",
       "                   SurveyEase ConvertedCompYearly  \n",
       "0                         NaN                 NaN  \n",
       "1                   Difficult                 NaN  \n",
       "2  Neither easy nor difficult             40205.0  \n",
       "3                        Easy            215232.0  \n",
       "4                        Easy                 NaN  \n",
       "\n",
       "[5 rows x 79 columns]"
      ]
     },
     "execution_count": 2,
     "metadata": {},
     "output_type": "execute_result"
    }
   ],
   "source": [
    "#Import required packages\n",
    "import numpy as np\n",
    "import pandas as pd\n",
    "import matplotlib.pyplot as plt\n",
    "import seaborn as sns\n",
    "%matplotlib inline\n",
    "#import the 2017 and 2022 surveys and ensure they are imported correcctly\n",
    "df2017= pd.read_csv(\"./survey_results_public2017.csv\")\n",
    "df2017.head()\n",
    "df2022= pd.read_csv(\"./survey_results_public2022.csv\")\n",
    "df2022.head()"
   ]
  },
  {
   "cell_type": "code",
   "execution_count": 3,
   "metadata": {},
   "outputs": [
    {
     "name": "stdout",
     "output_type": "stream",
     "text": [
      "0.373221829468\n",
      "0.040926064227\n"
     ]
    },
    {
     "name": "stderr",
     "output_type": "stream",
     "text": [
      "/opt/conda/lib/python3.6/site-packages/ipykernel_launcher.py:8: SettingWithCopyWarning: \n",
      "A value is trying to be set on a copy of a slice from a DataFrame.\n",
      "Try using .loc[row_indexer,col_indexer] = value instead\n",
      "\n",
      "See the caveats in the documentation: http://pandas.pydata.org/pandas-docs/stable/indexing.html#indexing-view-versus-copy\n",
      "  \n"
     ]
    },
    {
     "data": {
      "image/png": "[encoded data removed]",
      "text/plain": [
       "<matplotlib.figure.Figure at 0x7fdcd3aac400>"
      ]
     },
     "metadata": {
      "needs_background": "light"
     },
     "output_type": "display_data"
    },
    {
     "data": {
      "image/png": "[encoded data removed]",
      "text/plain": [
       "<matplotlib.figure.Figure at 0x7fdcc96d0630>"
      ]
     },
     "metadata": {
      "needs_background": "light"
     },
     "output_type": "display_data"
    },
    {
     "name": "stdout",
     "output_type": "stream",
     "text": [
      "                                                           0\n",
      "White or of European descent                        0.710913\n",
      "South Asian                                         0.081137\n",
      "Hispanic or Latino/Latina                           0.053011\n",
      "East Asian                                          0.046888\n",
      "Middle Eastern                                      0.034478\n",
      "I prefer not to say                                 0.025048\n",
      "Black or of African descent                         0.022298\n",
      "I don’t know                                        0.018369\n",
      "Native American, Pacific Islander, or Indigenou...  0.007858\n",
      "                                                           0\n",
      "White or European Descent                           0.609136\n",
      "Asian                                               0.068031\n",
      "Indian                                              0.068031\n",
      "Hispanic or Latino/a                                0.030814\n",
      "Middle Eastern                                      0.029156\n",
      "North American                                      0.024125\n",
      "South Asian                                         0.020009\n",
      "Prefer not to say                                   0.019609\n",
      "South American                                      0.018294\n",
      "Southeast Asian                                     0.016922\n",
      "African                                             0.013949\n",
      "Or, in your own words:                              0.013035\n",
      "East Asian                                          0.012749\n",
      "Multiracial                                         0.011091\n",
      "Biracial                                            0.008575\n",
      "Black                                               0.006346\n",
      "I don't know                                        0.006003\n",
      "North African                                       0.005946\n",
      "Central Asian                                       0.003945\n",
      "Ethnoreligious group                                0.003887\n",
      "Indigenous (such as Native American or Indigeno...  0.003830\n",
      "Caribbean                                           0.002858\n",
      "Central American                                    0.002573\n",
      "Pacific Islander                                    0.001086\n"
     ]
    }
   ],
   "source": [
    "#1a. Split the datasets into ethnicity and gender demogrpahics and plot their splits in\n",
    "#2017 and 2022\n",
    "print(df2017[\"Race\"].isna().mean())#around 37%\n",
    "print(df2022[\"Ethnicity\"].isna().mean())#around 4%\n",
    "race2017= df2017.dropna(subset= [\"Race\"])\n",
    "race2022= df2022.dropna(subset= [\"Ethnicity\"])\n",
    "#remove na's from dataset - can only include data which gave a response and not an oveewehelming amount\n",
    "race2022[\"Race\"]=df2022[\"Ethnicity\"]# ensured that the function could use both 2017 and 2022 dataset\n",
    "\n",
    "def split_plot(df, title, plot=True):\n",
    "    '''\n",
    "    INPUT \n",
    "        df - a dataframe \n",
    "        title -  title of your plot\n",
    "        plot - bool for plot or no plot\n",
    "        \n",
    "    OUTPUT\n",
    "        props_df - a dataframe with the proportion of individuals in each category\n",
    "        Displays a plot of split in ethnicity/race column.\n",
    "    '''\n",
    "    ###Below section splits the multiple responses which can be given by one person for race and counts their ividiviual appearances\n",
    "    answers_series = df['Race'].str.split(';').apply(lambda x: [i.strip() for i in x]).apply(pd.Series).stack()\n",
    "    replace_dict = {'White': 'White or European Descent', 'European': 'White or European Descent'}\n",
    "    answers_series= answers_series.replace(replace_dict)\n",
    "    answer_counts = answers_series.value_counts()\n",
    "    \n",
    "    #plots a bar chart using the counts of each individual response and their proportions of the whole\n",
    "    if plot:\n",
    "        (answer_counts/answer_counts.sum()).plot(kind='bar', legend=None);\n",
    "        plt.title(title)\n",
    "        plt.xlabel(\"Ethnicity\")\n",
    "        plt.ylabel(\"Proportion\");\n",
    "        plt.show()\n",
    "    #output these proportions as a dataframe \n",
    "    props_study= answer_counts/answer_counts.sum()\n",
    "    props_df=props_study.to_frame()\n",
    "    return props_df\n",
    "    \n",
    "props_df2017 = split_plot(race2017,\"Proportion of Survey Respondents by Ethnicity in 2017\")#find split in 2017\n",
    "props_df2022 = split_plot(race2022,\"Proportion of Survey Respondents by Ethnicity in 2022\")#find split in 2022\n",
    "print(props_df2017)\n",
    "print(props_df2022)\n",
    "\n"
   ]
  },
  {
   "cell_type": "code",
   "execution_count": 4,
   "metadata": {},
   "outputs": [
    {
     "name": "stdout",
     "output_type": "stream",
     "text": [
      "0.334231399259\n",
      "0.0215832710978\n"
     ]
    },
    {
     "data": {
      "image/png": "[encoded data removed]",
      "text/plain": [
       "<matplotlib.figure.Figure at 0x7fdcc84ba908>"
      ]
     },
     "metadata": {
      "needs_background": "light"
     },
     "output_type": "display_data"
    },
    {
     "data": {
      "image/png": "[encoded data removed]",
      "text/plain": [
       "<matplotlib.figure.Figure at 0x7fdcc863ae10>"
      ]
     },
     "metadata": {
      "needs_background": "light"
     },
     "output_type": "display_data"
    },
    {
     "name": "stdout",
     "output_type": "stream",
     "text": [
      "                              0\n",
      "Male                   0.899173\n",
      "Female                 0.076930\n",
      "Other                  0.010862\n",
      "Gender non-conforming  0.008179\n",
      "Transgender            0.004856\n",
      "                                                          0\n",
      "Man                                                0.916635\n",
      "Woman                                              0.039795\n",
      "Non-binary, genderqueer, or gender non-conforming  0.018802\n",
      "Prefer not to say                                  0.018500\n",
      "Or, in your own words:                             0.006267\n"
     ]
    }
   ],
   "source": [
    "#1b. Do the same as above but for gender\n",
    "print(df2017[\"Gender\"].isna().mean())#around 33%\n",
    "print(df2022[\"Gender\"].isna().mean())#around 2%\n",
    "\n",
    "gender2017= df2017.dropna(subset= [\"Gender\"])\n",
    "gender2022= df2022.dropna(subset= [\"Gender\"])\n",
    "\n",
    "def split_plot_2(df, title, plot=True):\n",
    "    '''\n",
    "    This function achieves same goal as previous section for ethnicity\n",
    "    INPUT \n",
    "        df - a dataframe\n",
    "        title - title of plot\n",
    "        plot - bool for plot or not\n",
    "        \n",
    "    OUTPUT\n",
    "        props_df - a dataframe with the proportion of  individuals\n",
    "        Displays a plot of these proportions.\n",
    "    '''\n",
    "    answers_series = df['Gender'].str.split(';').apply(lambda x: [i.strip() for i in x]).apply(pd.Series).stack()\n",
    "    \n",
    "    answer_counts = answers_series.value_counts()\n",
    "   \n",
    "    \n",
    "    if plot:\n",
    "        (answer_counts/answer_counts.sum()).plot(kind='bar', legend=None);\n",
    "        plt.title(title)\n",
    "        plt.xlabel(\"Gender\")\n",
    "        plt.ylabel(\"Proportion\");\n",
    "        plt.show()\n",
    "    props_study = answer_counts/answer_counts.sum()\n",
    "    props_df=props_study.to_frame()\n",
    "    return props_df\n",
    "\n",
    "gendersplit2017= split_plot_2(gender2017,\"Proportion of Survey Respondents by Gender 2017\")#find gender split for 2017\n",
    "gendersplit2022= split_plot_2(gender2022,\"Proportion of Survey Respondents by Gender 2022\")#find gender split for 2022\n",
    "print(gendersplit2017)\n",
    "print(gendersplit2022)"
   ]
  },
  {
   "cell_type": "code",
   "execution_count": 5,
   "metadata": {},
   "outputs": [
    {
     "name": "stdout",
     "output_type": "stream",
     "text": [
      "Yearly     4628\n",
      "Monthly    3747\n",
      "Weekly      205\n",
      "Name: CompFreq, dtype: int64\n"
     ]
    }
   ],
   "source": [
    "print(df2022[\"CompFreq\"].value_counts())"
   ]
  },
  {
   "cell_type": "code",
   "execution_count": 8,
   "metadata": {},
   "outputs": [
    {
     "name": "stderr",
     "output_type": "stream",
     "text": [
      "/opt/conda/lib/python3.6/site-packages/pandas/core/indexing.py:189: SettingWithCopyWarning: \n",
      "A value is trying to be set on a copy of a slice from a DataFrame\n",
      "\n",
      "See the caveats in the documentation: http://pandas.pydata.org/pandas-docs/stable/indexing.html#indexing-view-versus-copy\n",
      "  self._setitem_with_indexer(indexer, value)\n"
     ]
    },
    {
     "data": {
      "text/html": [
       "<style  type=\"text/css\" >\n",
       "    #T_ba8d3d70_9b38_11ee_97f9_6ab16305daf0row0_col2 {\n",
       "            width:  10em;\n",
       "             height:  80%;\n",
       "            background:  linear-gradient(90deg, transparent 0%, transparent 0.0%, #d65f5f 0.0%, #d65f5f 68.0%, transparent 68.0%);\n",
       "        }    #T_ba8d3d70_9b38_11ee_97f9_6ab16305daf0row1_col2 {\n",
       "            width:  10em;\n",
       "             height:  80%;\n",
       "            background:  linear-gradient(90deg, transparent 0%, transparent 68.0%, #5fba7d 68.0%, #5fba7d 77.1%, transparent 77.1%);\n",
       "        }    #T_ba8d3d70_9b38_11ee_97f9_6ab16305daf0row2_col2 {\n",
       "            width:  10em;\n",
       "             height:  80%;\n",
       "            background:  linear-gradient(90deg, transparent 0%, transparent 68.0%, #5fba7d 68.0%, #5fba7d 77.4%, transparent 77.4%);\n",
       "        }    #T_ba8d3d70_9b38_11ee_97f9_6ab16305daf0row3_col2 {\n",
       "            width:  10em;\n",
       "             height:  80%;\n",
       "            background:  linear-gradient(90deg, transparent 0%, transparent 68.0%, #5fba7d 68.0%, #5fba7d 85.5%, transparent 85.5%);\n",
       "        }    #T_ba8d3d70_9b38_11ee_97f9_6ab16305daf0row4_col2 {\n",
       "            width:  10em;\n",
       "             height:  80%;\n",
       "            background:  linear-gradient(90deg, transparent 0%, transparent 68.0%, #5fba7d 68.0%, #5fba7d 100.0%, transparent 100.0%);\n",
       "        }</style>  \n",
       "<table id=\"T_ba8d3d70_9b38_11ee_97f9_6ab16305daf0\" > \n",
       "<thead>    <tr> \n",
       "        <th class=\"blank level0\" ></th> \n",
       "        <th class=\"col_heading level0 col0\" >TopEarners</th> \n",
       "        <th class=\"col_heading level0 col1\" >All</th> \n",
       "        <th class=\"col_heading level0 col2\" >Difference</th> \n",
       "    </tr></thead> \n",
       "<tbody>    <tr> \n",
       "        <th id=\"T_ba8d3d70_9b38_11ee_97f9_6ab16305daf0level0_row0\" class=\"row_heading level0 row0\" >Male</th> \n",
       "        <td id=\"T_ba8d3d70_9b38_11ee_97f9_6ab16305daf0row0_col0\" class=\"data row0 col0\" >0.892453</td> \n",
       "        <td id=\"T_ba8d3d70_9b38_11ee_97f9_6ab16305daf0row0_col1\" class=\"data row0 col1\" >0.899173</td> \n",
       "        <td id=\"T_ba8d3d70_9b38_11ee_97f9_6ab16305daf0row0_col2\" class=\"data row0 col2\" >-0.00671972</td> \n",
       "    </tr>    <tr> \n",
       "        <th id=\"T_ba8d3d70_9b38_11ee_97f9_6ab16305daf0level0_row1\" class=\"row_heading level0 row1\" >Female</th> \n",
       "        <td id=\"T_ba8d3d70_9b38_11ee_97f9_6ab16305daf0row1_col0\" class=\"data row1 col0\" >0.0778302</td> \n",
       "        <td id=\"T_ba8d3d70_9b38_11ee_97f9_6ab16305daf0row1_col1\" class=\"data row1 col1\" >0.0769304</td> \n",
       "        <td id=\"T_ba8d3d70_9b38_11ee_97f9_6ab16305daf0row1_col2\" class=\"data row1 col2\" >0.000899739</td> \n",
       "    </tr>    <tr> \n",
       "        <th id=\"T_ba8d3d70_9b38_11ee_97f9_6ab16305daf0level0_row2\" class=\"row_heading level0 row2\" >Other</th> \n",
       "        <td id=\"T_ba8d3d70_9b38_11ee_97f9_6ab16305daf0row2_col0\" class=\"data row2 col0\" >0.0117925</td> \n",
       "        <td id=\"T_ba8d3d70_9b38_11ee_97f9_6ab16305daf0row2_col1\" class=\"data row2 col1\" >0.0108623</td> \n",
       "        <td id=\"T_ba8d3d70_9b38_11ee_97f9_6ab16305daf0row2_col2\" class=\"data row2 col2\" >0.00093018</td> \n",
       "    </tr>    <tr> \n",
       "        <th id=\"T_ba8d3d70_9b38_11ee_97f9_6ab16305daf0level0_row3\" class=\"row_heading level0 row3\" >Gender non-conforming</th> \n",
       "        <td id=\"T_ba8d3d70_9b38_11ee_97f9_6ab16305daf0row3_col0\" class=\"data row3 col0\" >0.00990566</td> \n",
       "        <td id=\"T_ba8d3d70_9b38_11ee_97f9_6ab16305daf0row3_col1\" class=\"data row3 col1\" >0.00817865</td> \n",
       "        <td id=\"T_ba8d3d70_9b38_11ee_97f9_6ab16305daf0row3_col2\" class=\"data row3 col2\" >0.00172701</td> \n",
       "    </tr>    <tr> \n",
       "        <th id=\"T_ba8d3d70_9b38_11ee_97f9_6ab16305daf0level0_row4\" class=\"row_heading level0 row4\" >Transgender</th> \n",
       "        <td id=\"T_ba8d3d70_9b38_11ee_97f9_6ab16305daf0row4_col0\" class=\"data row4 col0\" >0.00801887</td> \n",
       "        <td id=\"T_ba8d3d70_9b38_11ee_97f9_6ab16305daf0row4_col1\" class=\"data row4 col1\" >0.00485607</td> \n",
       "        <td id=\"T_ba8d3d70_9b38_11ee_97f9_6ab16305daf0row4_col2\" class=\"data row4 col2\" >0.00316279</td> \n",
       "    </tr></tbody> \n",
       "</table> "
      ],
      "text/plain": [
       "<pandas.io.formats.style.Styler at 0x7fdcca816710>"
      ]
     },
     "execution_count": 8,
     "metadata": {},
     "output_type": "execute_result"
    }
   ],
   "source": [
    "#2. Find if the representation is different for those in the highest wages\n",
    "\n",
    "#subsetting the 2017 dataset so only top 20% of earners are included#############\n",
    "threshold= df2017[\"Salary\"].quantile(0.8)\n",
    "topearner2017= df2017[df2017['Salary'] >= threshold]\n",
    "topearnergender2017= topearner2017.dropna(subset=[\"Gender\"])\n",
    "topearnergendersplit2017= split_plot_2(topearnergender2017, title = \"n/a\" , plot= False)#split this by gender \n",
    "\n",
    "#####plot the difference between the representation amongst top earners and all respondents\n",
    "comp_gender_earn_2017 = pd.merge(topearnergendersplit2017, gendersplit2017, left_index=True, right_index=True)\n",
    "comp_gender_earn_2017.columns = ['TopEarners', 'All']\n",
    "comp_gender_earn_2017['Difference'] = comp_gender_earn_2017['TopEarners'] - comp_gender_earn_2017['All']\n",
    "comp_gender_earn_2017.style.bar(subset=['Difference'], align='mid', color=['#d65f5f', '#5fba7d'])\n",
    "\n",
    "\n"
   ]
  },
  {
   "cell_type": "code",
   "execution_count": 11,
   "metadata": {},
   "outputs": [
    {
     "data": {
      "text/html": [
       "<style  type=\"text/css\" >\n",
       "    #T_c3d97294_9b39_11ee_97f9_6ab16305daf0row0_col2 {\n",
       "            width:  10em;\n",
       "             height:  80%;\n",
       "            background:  linear-gradient(90deg, transparent 0%, transparent 32.3%, #5fba7d 32.3%, #5fba7d 100.0%, transparent 100.0%);\n",
       "        }    #T_c3d97294_9b39_11ee_97f9_6ab16305daf0row1_col2 {\n",
       "            width:  10em;\n",
       "             height:  80%;\n",
       "            background:  linear-gradient(90deg, transparent 0%, transparent 24.0%, #d65f5f 24.0%, #d65f5f 32.3%, transparent 32.3%);\n",
       "        }    #T_c3d97294_9b39_11ee_97f9_6ab16305daf0row2_col2 {\n",
       "            width:  10em;\n",
       "             height:  80%;\n",
       "            background:  linear-gradient(90deg, transparent 0%, transparent 25.7%, #d65f5f 25.7%, #d65f5f 32.3%, transparent 32.3%);\n",
       "        }    #T_c3d97294_9b39_11ee_97f9_6ab16305daf0row3_col2 {\n",
       "            width:  10em;\n",
       "             height:  80%;\n",
       "            background:  linear-gradient(90deg, transparent 0%, transparent 0.0%, #d65f5f 0.0%, #d65f5f 32.3%, transparent 32.3%);\n",
       "        }    #T_c3d97294_9b39_11ee_97f9_6ab16305daf0row4_col2 {\n",
       "            width:  10em;\n",
       "             height:  80%;\n",
       "            background:  linear-gradient(90deg, transparent 0%, transparent 30.6%, #d65f5f 30.6%, #d65f5f 32.3%, transparent 32.3%);\n",
       "        }    #T_c3d97294_9b39_11ee_97f9_6ab16305daf0row5_col2 {\n",
       "            width:  10em;\n",
       "             height:  80%;\n",
       "            background:  linear-gradient(90deg, transparent 0%, transparent 32.3%, #5fba7d 32.3%, #5fba7d 40.3%, transparent 40.3%);\n",
       "        }    #T_c3d97294_9b39_11ee_97f9_6ab16305daf0row6_col2 {\n",
       "            width:  10em;\n",
       "             height:  80%;\n",
       "            background:  linear-gradient(90deg, transparent 0%, transparent 27.4%, #d65f5f 27.4%, #d65f5f 32.3%, transparent 32.3%);\n",
       "        }    #T_c3d97294_9b39_11ee_97f9_6ab16305daf0row7_col2 {\n",
       "            width:  10em;\n",
       "             height:  80%;\n",
       "            background:  linear-gradient(90deg, transparent 0%, transparent 19.9%, #d65f5f 19.9%, #d65f5f 32.3%, transparent 32.3%);\n",
       "        }    #T_c3d97294_9b39_11ee_97f9_6ab16305daf0row8_col2 {\n",
       "            width:  10em;\n",
       "             height:  80%;\n",
       "            background:  linear-gradient(90deg, transparent 0%, transparent 23.1%, #d65f5f 23.1%, #d65f5f 32.3%, transparent 32.3%);\n",
       "        }</style>  \n",
       "<table id=\"T_c3d97294_9b39_11ee_97f9_6ab16305daf0\" > \n",
       "<thead>    <tr> \n",
       "        <th class=\"blank level0\" ></th> \n",
       "        <th class=\"col_heading level0 col0\" >TopEarners</th> \n",
       "        <th class=\"col_heading level0 col1\" >All</th> \n",
       "        <th class=\"col_heading level0 col2\" >Difference</th> \n",
       "    </tr></thead> \n",
       "<tbody>    <tr> \n",
       "        <th id=\"T_c3d97294_9b39_11ee_97f9_6ab16305daf0level0_row0\" class=\"row_heading level0 row0\" >White or of European descent</th> \n",
       "        <td id=\"T_c3d97294_9b39_11ee_97f9_6ab16305daf0row0_col0\" class=\"data row0 col0\" >0.808383</td> \n",
       "        <td id=\"T_c3d97294_9b39_11ee_97f9_6ab16305daf0row0_col1\" class=\"data row0 col1\" >0.710913</td> \n",
       "        <td id=\"T_c3d97294_9b39_11ee_97f9_6ab16305daf0row0_col2\" class=\"data row0 col2\" >0.09747</td> \n",
       "    </tr>    <tr> \n",
       "        <th id=\"T_c3d97294_9b39_11ee_97f9_6ab16305daf0level0_row1\" class=\"row_heading level0 row1\" >Hispanic or Latino/Latina</th> \n",
       "        <td id=\"T_c3d97294_9b39_11ee_97f9_6ab16305daf0row1_col0\" class=\"data row1 col0\" >0.0409949</td> \n",
       "        <td id=\"T_c3d97294_9b39_11ee_97f9_6ab16305daf0row1_col1\" class=\"data row1 col1\" >0.0530107</td> \n",
       "        <td id=\"T_c3d97294_9b39_11ee_97f9_6ab16305daf0row1_col2\" class=\"data row1 col2\" >-0.0120158</td> \n",
       "    </tr>    <tr> \n",
       "        <th id=\"T_c3d97294_9b39_11ee_97f9_6ab16305daf0level0_row2\" class=\"row_heading level0 row2\" >East Asian</th> \n",
       "        <td id=\"T_c3d97294_9b39_11ee_97f9_6ab16305daf0row2_col0\" class=\"data row2 col0\" >0.03731</td> \n",
       "        <td id=\"T_c3d97294_9b39_11ee_97f9_6ab16305daf0row2_col1\" class=\"data row2 col1\" >0.0468878</td> \n",
       "        <td id=\"T_c3d97294_9b39_11ee_97f9_6ab16305daf0row2_col2\" class=\"data row2 col2\" >-0.00957779</td> \n",
       "    </tr>    <tr> \n",
       "        <th id=\"T_c3d97294_9b39_11ee_97f9_6ab16305daf0level0_row3\" class=\"row_heading level0 row3\" >South Asian</th> \n",
       "        <td id=\"T_c3d97294_9b39_11ee_97f9_6ab16305daf0row3_col0\" class=\"data row3 col0\" >0.0345463</td> \n",
       "        <td id=\"T_c3d97294_9b39_11ee_97f9_6ab16305daf0row3_col1\" class=\"data row3 col1\" >0.0811368</td> \n",
       "        <td id=\"T_c3d97294_9b39_11ee_97f9_6ab16305daf0row3_col2\" class=\"data row3 col2\" >-0.0465905</td> \n",
       "    </tr>    <tr> \n",
       "        <th id=\"T_c3d97294_9b39_11ee_97f9_6ab16305daf0level0_row4\" class=\"row_heading level0 row4\" >Black or of African descent</th> \n",
       "        <td id=\"T_c3d97294_9b39_11ee_97f9_6ab16305daf0row4_col0\" class=\"data row4 col0\" >0.0198065</td> \n",
       "        <td id=\"T_c3d97294_9b39_11ee_97f9_6ab16305daf0row4_col1\" class=\"data row4 col1\" >0.0222979</td> \n",
       "        <td id=\"T_c3d97294_9b39_11ee_97f9_6ab16305daf0row4_col2\" class=\"data row4 col2\" >-0.00249135</td> \n",
       "    </tr>    <tr> \n",
       "        <th id=\"T_c3d97294_9b39_11ee_97f9_6ab16305daf0level0_row5\" class=\"row_heading level0 row5\" >Native American, Pacific Islander, or Indigenous Australian</th> \n",
       "        <td id=\"T_c3d97294_9b39_11ee_97f9_6ab16305daf0row5_col0\" class=\"data row5 col0\" >0.0193459</td> \n",
       "        <td id=\"T_c3d97294_9b39_11ee_97f9_6ab16305daf0row5_col1\" class=\"data row5 col1\" >0.00785829</td> \n",
       "        <td id=\"T_c3d97294_9b39_11ee_97f9_6ab16305daf0row5_col2\" class=\"data row5 col2\" >0.0114876</td> \n",
       "    </tr>    <tr> \n",
       "        <th id=\"T_c3d97294_9b39_11ee_97f9_6ab16305daf0level0_row6\" class=\"row_heading level0 row6\" >I prefer not to say</th> \n",
       "        <td id=\"T_c3d97294_9b39_11ee_97f9_6ab16305daf0row6_col0\" class=\"data row6 col0\" >0.0179641</td> \n",
       "        <td id=\"T_c3d97294_9b39_11ee_97f9_6ab16305daf0row6_col1\" class=\"data row6 col1\" >0.0250483</td> \n",
       "        <td id=\"T_c3d97294_9b39_11ee_97f9_6ab16305daf0row6_col2\" class=\"data row6 col2\" >-0.00708422</td> \n",
       "    </tr>    <tr> \n",
       "        <th id=\"T_c3d97294_9b39_11ee_97f9_6ab16305daf0level0_row7\" class=\"row_heading level0 row7\" >Middle Eastern</th> \n",
       "        <td id=\"T_c3d97294_9b39_11ee_97f9_6ab16305daf0row7_col0\" class=\"data row7 col0\" >0.0165822</td> \n",
       "        <td id=\"T_c3d97294_9b39_11ee_97f9_6ab16305daf0row7_col1\" class=\"data row7 col1\" >0.0344782</td> \n",
       "        <td id=\"T_c3d97294_9b39_11ee_97f9_6ab16305daf0row7_col2\" class=\"data row7 col2\" >-0.017896</td> \n",
       "    </tr>    <tr> \n",
       "        <th id=\"T_c3d97294_9b39_11ee_97f9_6ab16305daf0level0_row8\" class=\"row_heading level0 row8\" >I don’t know</th> \n",
       "        <td id=\"T_c3d97294_9b39_11ee_97f9_6ab16305daf0row8_col0\" class=\"data row8 col0\" >0.00506679</td> \n",
       "        <td id=\"T_c3d97294_9b39_11ee_97f9_6ab16305daf0row8_col1\" class=\"data row8 col1\" >0.0183688</td> \n",
       "        <td id=\"T_c3d97294_9b39_11ee_97f9_6ab16305daf0row8_col2\" class=\"data row8 col2\" >-0.013302</td> \n",
       "    </tr></tbody> \n",
       "</table> "
      ],
      "text/plain": [
       "<pandas.io.formats.style.Styler at 0x7fdcc8e274a8>"
      ]
     },
     "execution_count": 11,
     "metadata": {},
     "output_type": "execute_result"
    }
   ],
   "source": [
    "#2b. Do the same for race that we did for gender above\n",
    "\n",
    "topearnerrace2017= topearner2017.dropna(subset=[\"Race\"])\n",
    "topearnerracesplit2017= split_plot(topearnerrace2017, title= \"N/A\", plot= False)\n",
    "comp_race_earn_2017 = pd.merge(topearnerracesplit2017, props_df2017, left_index=True, right_index=True)\n",
    "comp_race_earn_2017.columns = ['TopEarners', 'All']\n",
    "comp_race_earn_2017['Difference'] = comp_race_earn_2017['TopEarners'] - comp_race_earn_2017['All']\n",
    "comp_race_earn_2017.style.bar(subset=['Difference'], align='mid', color=['#d65f5f', '#5fba7d'])\n",
    "\n"
   ]
  },
  {
   "cell_type": "code",
   "execution_count": 12,
   "metadata": {},
   "outputs": [],
   "source": [
    "#3. Is there a glass ceiling effect?\n",
    "#subset the data by gender\n",
    "df_2017_female= df2017[df2017[\"Gender\"]==\"Female\"]\n",
    "df_2017_male= df2017[df2017[\"Gender\"]==\"Male\"]"
   ]
  },
  {
   "cell_type": "code",
   "execution_count": 13,
   "metadata": {},
   "outputs": [
    {
     "data": {
      "text/plain": [
       "<matplotlib.legend.Legend at 0x7fdcc8f9a828>"
      ]
     },
     "execution_count": 13,
     "metadata": {},
     "output_type": "execute_result"
    },
    {
     "data": {
      "image/png": "[encoded data removed]",
      "text/plain": [
       "<matplotlib.figure.Figure at 0x7fdcc9a37e48>"
      ]
     },
     "metadata": {
      "needs_background": "light"
     },
     "output_type": "display_data"
    }
   ],
   "source": [
    "#Create overlayed normalised histograms of the two gender and their expected salary\n",
    "df_2017_male['ExpectedSalary'].hist(bins=10, density= True, color='blue', edgecolor='black', alpha=0.7, label='Male')\n",
    "df_2017_female['ExpectedSalary'].hist(bins=10, density= True, color='pink', edgecolor='black', alpha=0.7, label='Female')\n",
    "\n",
    "# Add labels and title\n",
    "plt.xlabel(\"Expected Salary\")\n",
    "plt.ylabel('Frequency')\n",
    "plt.title('Overlayed Normalized Histograms of Age for Male and Female')\n",
    "plt.legend()"
   ]
  },
  {
   "cell_type": "code",
   "execution_count": 14,
   "metadata": {},
   "outputs": [
    {
     "data": {
      "text/plain": [
       "<matplotlib.legend.Legend at 0x7fdcc9814908>"
      ]
     },
     "execution_count": 14,
     "metadata": {},
     "output_type": "execute_result"
    },
    {
     "data": {
      "image/png": "[encoded data removed]",
      "text/plain": [
       "<matplotlib.figure.Figure at 0x7fdcc9022e48>"
      ]
     },
     "metadata": {
      "needs_background": "light"
     },
     "output_type": "display_data"
    }
   ],
   "source": [
    "#Do the same for actual Salary\n",
    "df_2017_male['Salary'].hist(bins=10, density= True, color='blue', edgecolor='black', alpha=0.7, label='Male')\n",
    "df_2017_female['Salary'].hist(bins=10, density= True, color='pink', edgecolor='black', alpha=0.7, label='Female')\n",
    "\n",
    "# Add labels and title\n",
    "plt.xlabel(\"Salary\")\n",
    "plt.ylabel('Frequency')\n",
    "plt.title('Overlayed Normalized Histograms of Age for Male and Female')\n",
    "plt.legend()"
   ]
  },
  {
   "cell_type": "code",
   "execution_count": 15,
   "metadata": {},
   "outputs": [
    {
     "name": "stdout",
     "output_type": "stream",
     "text": [
      "count      1643.000000\n",
      "mean      34167.379784\n",
      "std       30054.245056\n",
      "min           0.000000\n",
      "25%        5728.837458\n",
      "50%       31250.000000\n",
      "75%       53030.303030\n",
      "max      187500.000000\n",
      "Name: ExpectedSalary, dtype: float64\n",
      "count       130.000000\n",
      "mean      30014.887873\n",
      "std       27302.846553\n",
      "min           0.044046\n",
      "25%        3056.451613\n",
      "50%       28432.131846\n",
      "75%       49596.774194\n",
      "max      110000.000000\n",
      "Name: ExpectedSalary, dtype: float64\n"
     ]
    }
   ],
   "source": [
    "#produce desciptive analytics of the two\n",
    "print(df_2017_male[\"ExpectedSalary\"].describe())\n",
    "print(df_2017_female[\"ExpectedSalary\"].describe())"
   ]
  },
  {
   "cell_type": "code",
   "execution_count": null,
   "metadata": {},
   "outputs": [],
   "source": []
  }
 ],
 "metadata": {
  "kernelspec": {
   "display_name": "Python 3",
   "language": "python",
   "name": "python3"
  },
  "language_info": {
   "codemirror_mode": {
    "name": "ipython",
    "version": 3
   },
   "file_extension": ".py",
   "mimetype": "text/x-python",
   "name": "python",
   "nbconvert_exporter": "python",
   "pygments_lexer": "ipython3",
   "version": "3.6.3"
  }
 },
 "nbformat": 4,
 "nbformat_minor": 2
}
